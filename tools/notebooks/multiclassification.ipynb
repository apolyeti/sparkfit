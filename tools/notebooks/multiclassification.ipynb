{
 "cells": [
  {
   "cell_type": "markdown",
   "id": "3020dd82-f979-4cff-9cc2-7924b8d56b38",
   "metadata": {},
   "source": [
    "# Helper functions"
   ]
  },
  {
   "cell_type": "code",
   "execution_count": 1,
   "id": "62abc64f-9b9f-42f4-8a57-8f2d1482d3f8",
   "metadata": {},
   "outputs": [],
   "source": [
    "def split_dir_to_train_test_val(directory = \"../data/clothes\",\n",
    "                            train_size = 0.7,\n",
    "                            test_size = 0.2,\n",
    "                            val_size = 0.1):\n",
    "  \"\"\"\n",
    "  Creates 3 folders for Train, Test and Validation data\n",
    "  \"\"\"\n",
    "  import os\n",
    "  import random\n",
    "  import shutil\n",
    "\n",
    "  # Set random seed\n",
    "  rng = random.Random(42)\n",
    "\n",
    "  for root, folders, files in os.walk(directory):\n",
    "    for folder in folders:\n",
    "      # Create list of the files\n",
    "      list_of_files = []\n",
    "      for file_name in os.listdir(root+folder+\"/\"):\n",
    "        list_of_files.append(file_name)\n",
    "      \n",
    "      #  Shuffle the list\n",
    "      rng.shuffle(list_of_files)\n",
    "\n",
    "      # Create lists of files\n",
    "      train_files = list_of_files[:int(len(list_of_files)*train_size)]\n",
    "      test_files = list_of_files[int(len(list_of_files)*train_size) : int(len(list_of_files)*(train_size+test_size))]\n",
    "      val_files = list_of_files[int(len(list_of_files)*(train_size+test_size)):]\n",
    "\n",
    "      # Create folders and files for train data\n",
    "      for one_file in train_files:\n",
    "      \n",
    "        # Copy  files\n",
    "        dest_dir = \"files/train/\"+folder+\"/\"\n",
    "        os.makedirs(dest_dir, exist_ok=True)\n",
    "\n",
    "        shutil.copy2(src=(root+folder+\"/\"+one_file),\n",
    "                    dst=(dest_dir+one_file))\n",
    "      print(f\"Folder {folder}. Train data copied. {len(train_files)} files\")\n",
    "\n",
    "      # Create folders and files for test data\n",
    "      for one_file in test_files:      \n",
    "        # Copy  files\n",
    "        dest_dir = \"files/test/\"+folder+\"/\"\n",
    "        os.makedirs(dest_dir, exist_ok=True)\n",
    "\n",
    "        shutil.copy2(src=(root+folder+\"/\"+one_file),\n",
    "                    dst=(dest_dir+one_file))\n",
    "      print(f\"Folder {folder}. Test data copied. {len(test_files)} files\")\n",
    "\n",
    "      # Create folders and files for validation data\n",
    "      for one_file in val_files:\n",
    "      \n",
    "        # Copy  files\n",
    "        dest_dir = \"files/validation/\"+folder+\"/\"\n",
    "        os.makedirs(dest_dir, exist_ok=True)\n",
    "\n",
    "        shutil.copy2(src=(root+folder+\"/\"+one_file),\n",
    "                    dst=(dest_dir+one_file))\n",
    "      print(f\"Folder {folder}. Validation data copied. {len(val_files)} files\")\n",
    "      \n",
    "     \n",
    "\n",
    "\n",
    "def get_class_names_from_folder(directory):\n",
    "  \"\"\"\n",
    "  Get the classnames from train folder for example\n",
    "  \"\"\"\n",
    "  import pathlib\n",
    "  import numpy as np\n",
    "  data_dir = pathlib.Path(directory)\n",
    "  class_names = np.array(sorted([item.name for item in data_dir.glob(\"*\")])) # Created a list of class names \n",
    "  return class_names\n",
    "  print(class_names)"
   ]
  },
  {
   "cell_type": "code",
   "execution_count": 3,
   "id": "a8a9ff68-e9ff-4fd9-ba12-00f66e5af510",
   "metadata": {},
   "outputs": [
    {
     "name": "stdout",
     "output_type": "stream",
     "text": [
      "Folder Top. Train data copied. 26 files\n",
      "Folder Top. Test data copied. 8 files\n",
      "Folder Top. Validation data copied. 4 files\n",
      "Folder Skirt. Train data copied. 103 files\n",
      "Folder Skirt. Test data copied. 30 files\n",
      "Folder Skirt. Validation data copied. 15 files\n",
      "Folder Undershirt. Train data copied. 72 files\n",
      "Folder Undershirt. Test data copied. 20 files\n",
      "Folder Undershirt. Validation data copied. 11 files\n",
      "Folder Longsleeve. Train data copied. 462 files\n",
      "Folder Longsleeve. Test data copied. 132 files\n",
      "Folder Longsleeve. Validation data copied. 67 files\n",
      "Folder Dress. Train data copied. 216 files\n",
      "Folder Dress. Test data copied. 62 files\n",
      "Folder Dress. Validation data copied. 31 files\n",
      "Folder Body. Train data copied. 0 files\n",
      "Folder Body. Test data copied. 0 files\n",
      "Folder Body. Validation data copied. 1 files\n",
      "Folder Hoodie. Train data copied. 67 files\n",
      "Folder Hoodie. Test data copied. 20 files\n",
      "Folder Hoodie. Validation data copied. 10 files\n",
      "Folder Polo. Train data copied. 80 files\n",
      "Folder Polo. Test data copied. 23 files\n",
      "Folder Polo. Validation data copied. 12 files\n",
      "Folder Pants. Train data copied. 423 files\n",
      "Folder Pants. Test data copied. 121 files\n",
      "Folder Pants. Validation data copied. 61 files\n",
      "Folder Blouse. Train data copied. 16 files\n",
      "Folder Blouse. Test data copied. 4 files\n",
      "Folder Blouse. Validation data copied. 3 files\n",
      "Folder T-Shirt. Train data copied. 688 files\n",
      "Folder T-Shirt. Test data copied. 197 files\n",
      "Folder T-Shirt. Validation data copied. 99 files\n",
      "Folder Shorts. Train data copied. 198 files\n",
      "Folder Shorts. Test data copied. 57 files\n",
      "Folder Shorts. Validation data copied. 29 files\n",
      "Folder Hat. Train data copied. 112 files\n",
      "Folder Hat. Test data copied. 32 files\n",
      "Folder Hat. Validation data copied. 17 files\n",
      "Folder Blazer. Train data copied. 74 files\n",
      "Folder Blazer. Test data copied. 22 files\n",
      "Folder Blazer. Validation data copied. 11 files\n",
      "Folder Shoes. Train data copied. 259 files\n",
      "Folder Shoes. Test data copied. 74 files\n",
      "Folder Shoes. Validation data copied. 38 files\n",
      "Folder Shirt. Train data copied. 260 files\n",
      "Folder Shirt. Test data copied. 74 files\n",
      "Folder Shirt. Validation data copied. 38 files\n",
      "Folder Outwear. Train data copied. 193 files\n",
      "Folder Outwear. Test data copied. 56 files\n",
      "Folder Outwear. Validation data copied. 28 files\n"
     ]
    }
   ],
   "source": [
    "# Split images to test, train, and validation\n",
    "split_dir_to_train_test_val(directory='../data/clothes/',\n",
    "                            train_size=0.7,\n",
    "                            test_size=0.2,\n",
    "                            val_size=0.1)"
   ]
  },
  {
   "cell_type": "markdown",
   "id": "cc2150a2-199a-4293-8e09-d60f4374a19d",
   "metadata": {},
   "source": [
    "# Get class names from folder"
   ]
  },
  {
   "cell_type": "code",
   "execution_count": 5,
   "id": "1ca22d81-5876-4503-8111-fc24b1293a84",
   "metadata": {},
   "outputs": [
    {
     "data": {
      "text/plain": [
       "16"
      ]
     },
     "execution_count": 5,
     "metadata": {},
     "output_type": "execute_result"
    }
   ],
   "source": [
    "class_names = get_class_names_from_folder(directory=\"../data/preprocessed/train/\")\n",
    "class_names\n",
    "len(class_names)"
   ]
  },
  {
   "cell_type": "code",
   "execution_count": 6,
   "id": "15c488a1-a599-40d3-9171-b258ef96622b",
   "metadata": {},
   "outputs": [],
   "source": [
    "import matplotlib.pyplot as plt\n",
    "import matplotlib.image as mpimg\n",
    "import os\n",
    "import random"
   ]
  },
  {
   "cell_type": "code",
   "execution_count": 22,
   "id": "c1be4171-5f8a-4957-93ab-ee0726605ba5",
   "metadata": {},
   "outputs": [],
   "source": [
    "def visualize_random_image(target_dir, target_class):\n",
    "    \"\"\"\n",
    "    Visualize random image from target directory\n",
    "    \"\"\"\n",
    "    image_dir = target_dir + target_class\n",
    "    random_image = random.sample(os.listdir(image_dir), 1)\n",
    "\n",
    "    img = mpimg.imread(image_dir + '/' + random_image[0])\n",
    "    plt.title(target_class)\n",
    "    plt.imshow(img)"
   ]
  },
  {
   "cell_type": "code",
   "execution_count": null,
   "id": "809fdeb9-7113-420d-8295-b9b0d3004fe5",
   "metadata": {},
   "outputs": [],
   "source": [
    "visualize_random_image('../data/preprocessed/train/', 'Outwear')"
   ]
  },
  {
   "cell_type": "code",
   "execution_count": null,
   "id": "dc0a9610-6942-43d0-a6e6-bb795776508a",
   "metadata": {},
   "outputs": [],
   "source": []
  },
  {
   "cell_type": "code",
   "execution_count": null,
   "id": "07709c7f-1b5c-4a62-896a-a84e99d4c21d",
   "metadata": {},
   "outputs": [],
   "source": []
  }
 ],
 "metadata": {
  "kernelspec": {
   "display_name": "Python 3 (ipykernel)",
   "language": "python",
   "name": "python3"
  },
  "language_info": {
   "codemirror_mode": {
    "name": "ipython",
    "version": 3
   },
   "file_extension": ".py",
   "mimetype": "text/x-python",
   "name": "python",
   "nbconvert_exporter": "python",
   "pygments_lexer": "ipython3",
   "version": "3.12.4"
  }
 },
 "nbformat": 4,
 "nbformat_minor": 5
}
