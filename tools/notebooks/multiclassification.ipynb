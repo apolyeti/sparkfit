{
 "cells": [
  {
   "cell_type": "markdown",
   "id": "3020dd82-f979-4cff-9cc2-7924b8d56b38",
   "metadata": {},
   "source": [
    "# Helper functions"
   ]
  },
  {
   "cell_type": "code",
   "execution_count": 1,
   "id": "62abc64f-9b9f-42f4-8a57-8f2d1482d3f8",
   "metadata": {},
   "outputs": [],
   "source": [
    "def split_dir_to_train_test_val(directory = \"../data/clothes\",\n",
    "                            train_size = 0.7,\n",
    "                            test_size = 0.2,\n",
    "                            val_size = 0.1):\n",
    "  \"\"\"\n",
    "  Creates 3 folders for Train, Test and Validation data\n",
    "  \"\"\"\n",
    "  import os\n",
    "  import random\n",
    "  import shutil\n",
    "\n",
    "  # Set random seed\n",
    "  rng = random.Random(42)\n",
    "\n",
    "  for root, folders, files in os.walk(directory):\n",
    "    for folder in folders:\n",
    "      # Create list of the files\n",
    "      list_of_files = []\n",
    "      for file_name in os.listdir(root+folder+\"/\"):\n",
    "        list_of_files.append(file_name)\n",
    "      \n",
    "      #  Shuffle the list\n",
    "      rng.shuffle(list_of_files)\n",
    "\n",
    "      # Create lists of files\n",
    "      train_files = list_of_files[:int(len(list_of_files)*train_size)]\n",
    "      test_files = list_of_files[int(len(list_of_files)*train_size) : int(len(list_of_files)*(train_size+test_size))]\n",
    "      val_files = list_of_files[int(len(list_of_files)*(train_size+test_size)):]\n",
    "\n",
    "      # Create folders and files for train data\n",
    "      for one_file in train_files:\n",
    "      \n",
    "        # Copy  files\n",
    "        dest_dir = \"files/train/\"+folder+\"/\"\n",
    "        os.makedirs(dest_dir, exist_ok=True)\n",
    "\n",
    "        shutil.copy2(src=(root+folder+\"/\"+one_file),\n",
    "                    dst=(dest_dir+one_file))\n",
    "      print(f\"Folder {folder}. Train data copied. {len(train_files)} files\")\n",
    "\n",
    "      # Create folders and files for test data\n",
    "      for one_file in test_files:      \n",
    "        # Copy  files\n",
    "        dest_dir = \"files/test/\"+folder+\"/\"\n",
    "        os.makedirs(dest_dir, exist_ok=True)\n",
    "\n",
    "        shutil.copy2(src=(root+folder+\"/\"+one_file),\n",
    "                    dst=(dest_dir+one_file))\n",
    "      print(f\"Folder {folder}. Test data copied. {len(test_files)} files\")\n",
    "\n",
    "      # Create folders and files for validation data\n",
    "      for one_file in val_files:\n",
    "      \n",
    "        # Copy  files\n",
    "        dest_dir = \"files/validation/\"+folder+\"/\"\n",
    "        os.makedirs(dest_dir, exist_ok=True)\n",
    "\n",
    "        shutil.copy2(src=(root+folder+\"/\"+one_file),\n",
    "                    dst=(dest_dir+one_file))\n",
    "      print(f\"Folder {folder}. Validation data copied. {len(val_files)} files\")\n",
    "      \n",
    "     \n",
    "\n",
    "\n",
    "def get_class_names_from_folder(directory):\n",
    "  \"\"\"\n",
    "  Get the classnames from train folder for example\n",
    "  \"\"\"\n",
    "  import pathlib\n",
    "  import numpy as np\n",
    "  data_dir = pathlib.Path(directory)\n",
    "  class_names = np.array(sorted([item.name for item in data_dir.glob(\"*\")])) # Created a list of class names \n",
    "  return class_names\n",
    "  print(class_names)"
   ]
  },
  {
   "cell_type": "code",
   "execution_count": 2,
   "id": "a8a9ff68-e9ff-4fd9-ba12-00f66e5af510",
   "metadata": {},
   "outputs": [
    {
     "ename": "FileNotFoundError",
     "evalue": "[Errno 2] No such file or directory: '../data/clothesTop/'",
     "output_type": "error",
     "traceback": [
      "\u001b[0;31m---------------------------------------------------------------------------\u001b[0m",
      "\u001b[0;31mFileNotFoundError\u001b[0m                         Traceback (most recent call last)",
      "Cell \u001b[0;32mIn[2], line 2\u001b[0m\n\u001b[1;32m      1\u001b[0m \u001b[38;5;66;03m# Split images to test, train, and validation\u001b[39;00m\n\u001b[0;32m----> 2\u001b[0m \u001b[43msplit_dir_to_train_test_val\u001b[49m\u001b[43m(\u001b[49m\u001b[43mdirectory\u001b[49m\u001b[38;5;241;43m=\u001b[39;49m\u001b[38;5;124;43m'\u001b[39;49m\u001b[38;5;124;43m../data/clothes\u001b[39;49m\u001b[38;5;124;43m'\u001b[39;49m\u001b[43m,\u001b[49m\n\u001b[1;32m      3\u001b[0m \u001b[43m                            \u001b[49m\u001b[43mtrain_size\u001b[49m\u001b[38;5;241;43m=\u001b[39;49m\u001b[38;5;241;43m0.7\u001b[39;49m\u001b[43m,\u001b[49m\n\u001b[1;32m      4\u001b[0m \u001b[43m                            \u001b[49m\u001b[43mtest_size\u001b[49m\u001b[38;5;241;43m=\u001b[39;49m\u001b[38;5;241;43m0.2\u001b[39;49m\u001b[43m,\u001b[49m\n\u001b[1;32m      5\u001b[0m \u001b[43m                            \u001b[49m\u001b[43mval_size\u001b[49m\u001b[38;5;241;43m=\u001b[39;49m\u001b[38;5;241;43m0.1\u001b[39;49m\u001b[43m)\u001b[49m\n",
      "Cell \u001b[0;32mIn[1], line 19\u001b[0m, in \u001b[0;36msplit_dir_to_train_test_val\u001b[0;34m(directory, train_size, test_size, val_size)\u001b[0m\n\u001b[1;32m     16\u001b[0m \u001b[38;5;28;01mfor\u001b[39;00m folder \u001b[38;5;129;01min\u001b[39;00m folders:\n\u001b[1;32m     17\u001b[0m   \u001b[38;5;66;03m# Create list of the files\u001b[39;00m\n\u001b[1;32m     18\u001b[0m   list_of_files \u001b[38;5;241m=\u001b[39m []\n\u001b[0;32m---> 19\u001b[0m   \u001b[38;5;28;01mfor\u001b[39;00m file_name \u001b[38;5;129;01min\u001b[39;00m \u001b[43mos\u001b[49m\u001b[38;5;241;43m.\u001b[39;49m\u001b[43mlistdir\u001b[49m\u001b[43m(\u001b[49m\u001b[43mroot\u001b[49m\u001b[38;5;241;43m+\u001b[39;49m\u001b[43mfolder\u001b[49m\u001b[38;5;241;43m+\u001b[39;49m\u001b[38;5;124;43m\"\u001b[39;49m\u001b[38;5;124;43m/\u001b[39;49m\u001b[38;5;124;43m\"\u001b[39;49m\u001b[43m)\u001b[49m:\n\u001b[1;32m     20\u001b[0m     list_of_files\u001b[38;5;241m.\u001b[39mappend(file_name)\n\u001b[1;32m     22\u001b[0m   \u001b[38;5;66;03m#  Shuffle the list\u001b[39;00m\n",
      "\u001b[0;31mFileNotFoundError\u001b[0m: [Errno 2] No such file or directory: '../data/clothesTop/'"
     ]
    }
   ],
   "source": [
    "# Split images to test, train, and validation\n",
    "split_dir_to_train_test_val(directory='../data/clothes',\n",
    "                            train_size=0.7,\n",
    "                            test_size=0.2,\n",
    "                            val_size=0.1)"
   ]
  },
  {
   "cell_type": "code",
   "execution_count": null,
   "id": "c26dd6b9-cb0f-403b-897e-113a8c2369c1",
   "metadata": {},
   "outputs": [],
   "source": []
  }
 ],
 "metadata": {
  "kernelspec": {
   "display_name": "Python 3 (ipykernel)",
   "language": "python",
   "name": "python3"
  },
  "language_info": {
   "codemirror_mode": {
    "name": "ipython",
    "version": 3
   },
   "file_extension": ".py",
   "mimetype": "text/x-python",
   "name": "python",
   "nbconvert_exporter": "python",
   "pygments_lexer": "ipython3",
   "version": "3.12.4"
  }
 },
 "nbformat": 4,
 "nbformat_minor": 5
}
