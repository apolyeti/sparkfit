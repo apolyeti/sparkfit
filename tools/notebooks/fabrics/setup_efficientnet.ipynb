{
 "cells": [
  {
   "cell_type": "markdown",
   "id": "facbd638-6460-4c7c-bec2-b600c137abdc",
   "metadata": {},
   "source": [
    "# Load libraries and model"
   ]
  },
  {
   "cell_type": "code",
   "execution_count": 7,
   "id": "4e47d1ab-79ab-4a6a-a825-ac2007c2c4fa",
   "metadata": {},
   "outputs": [],
   "source": [
    "from tensorflow.keras.applications import EfficientNetB1\n",
    "from tensorflow.keras.preprocessing import image\n",
    "from tensorflow.keras.applications.efficientnet import preprocess_input, decode_predictions\n",
    "import numpy as np\n",
    "\n",
    "\n",
    "model = EfficientNetB1(weights='imagenet')\n"
   ]
  },
  {
   "cell_type": "markdown",
   "id": "31ff7164-7834-4c51-8827-ab283fd1a245",
   "metadata": {},
   "source": [
    "# Test out model"
   ]
  },
  {
   "cell_type": "code",
   "execution_count": 10,
   "id": "cbc9c96a-314b-4a2b-8ea5-2d78707d9aa9",
   "metadata": {},
   "outputs": [],
   "source": [
    "img_path = 'jeans.jpeg'\n",
    "img = image.load_img(img_path, target_size=(240, 240))\n",
    "x = image.img_to_array(img)\n",
    "x = np.expand_dims(x, axis=0)\n",
    "x = preprocess_input(x)"
   ]
  },
  {
   "cell_type": "code",
   "execution_count": 14,
   "id": "7aaaaea1-ebc9-4ba4-b397-6fd409beaa5f",
   "metadata": {},
   "outputs": [
    {
     "name": "stdout",
     "output_type": "stream",
     "text": [
      "1/1 [==============================] - 0s 57ms/step\n",
      "Predicted: [('n03594734', 'jean', 0.25223988), ('n02808304', 'bath_towel', 0.13158798), ('n04367480', 'swab', 0.05236028)]\n"
     ]
    }
   ],
   "source": [
    "preds = model.predict(x)\n",
    "\n",
    "print('Predicted:', decode_predictions(preds, top=3)[0])\n",
    "\n",
    "top_prediction = decode_predictions(preds, top=1)[0][0]"
   ]
  },
  {
   "cell_type": "code",
   "execution_count": null,
   "id": "63e06fe8-fa9a-459d-8061-685b177c688d",
   "metadata": {},
   "outputs": [],
   "source": []
  }
 ],
 "metadata": {
  "kernelspec": {
   "display_name": "Python 3 (ipykernel)",
   "language": "python",
   "name": "python3"
  },
  "language_info": {
   "codemirror_mode": {
    "name": "ipython",
    "version": 3
   },
   "file_extension": ".py",
   "mimetype": "text/x-python",
   "name": "python",
   "nbconvert_exporter": "python",
   "pygments_lexer": "ipython3",
   "version": "3.11.8"
  }
 },
 "nbformat": 4,
 "nbformat_minor": 5
}
